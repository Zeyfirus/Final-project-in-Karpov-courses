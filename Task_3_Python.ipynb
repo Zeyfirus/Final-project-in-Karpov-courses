{
 "cells": [
  {
   "cell_type": "code",
   "execution_count": 1,
   "metadata": {},
   "outputs": [],
   "source": [
    "#Подключаем все необходимые библиотеки\n",
    "import numpy as np\n",
    "import pandas as pd\n",
    "import matplotlib.pyplot as plt\n",
    "import seaborn as sns\n",
    "from scipy import stats\n",
    "from scipy.stats import norm\n",
    "from tqdm.auto import tqdm\n",
    "from scipy.stats import mannwhitneyu\n",
    "import My_own_def as md\n",
    "\n",
    "plt.style.use('ggplot')"
   ]
  },
  {
   "cell_type": "code",
   "execution_count": 2,
   "metadata": {},
   "outputs": [],
   "source": [
    "df_groups=pd.read_csv('/mnt/HC_Volume_18315164/home-jupyter/jupyter-o-litvintseva-28/Проект_2_groups.csv',sep=';')\n",
    "df_group_add=pd.read_csv('/mnt/HC_Volume_18315164/home-jupyter/jupyter-o-litvintseva-28/Проект_2_group_add.csv')\n",
    "df_activ=pd.read_csv('/mnt/HC_Volume_18315164/home-jupyter/jupyter-o-litvintseva-28/Проект_2_active_studs.csv')\n",
    "df_checks=pd.read_csv('/mnt/HC_Volume_18315164/home-jupyter/jupyter-o-litvintseva-28/Проект_2_checks.csv',sep=';')"
   ]
  },
  {
   "cell_type": "code",
   "execution_count": 3,
   "metadata": {},
   "outputs": [],
   "source": [
    "df_groups_add=pd.read_csv('/mnt/HC_Volume_18315164/home-jupyter/jupyter-o-litvintseva-28/Проект_2_group_add.csv')"
   ]
  },
  {
   "cell_type": "code",
   "execution_count": 85,
   "metadata": {},
   "outputs": [],
   "source": [
    "def make_df_and_metricks(group, group_add, activ, checks):\n",
    "    \"\"\"Функция для добавление доп.данных и перерасчета метрик\"\"\"\n",
    "    df=pd.concat([group,group_add])\n",
    "    df_ac=df.merge(activ,left_on='id',right_on='student_id',how='left')\n",
    "    data=df_ac.merge(checks,left_on='id',right_on='student_id',how='left')\n",
    "    data.columns = ['id', 'group', 'activ', 'checks','rev']\n",
    "    data[['activ', 'checks','rev']] = data[['activ', 'checks','rev']]. fillna (0)\n",
    "    data['activ']=pd.Series(map(lambda x: 1 if x>0 else 0,  data['activ']))\n",
    "    data['checks']=pd.Series(map(lambda x: 1 if x>0 else 0,  data['checks']))\n",
    "    \n",
    "    return data.query('activ==1').groupby('group',as_index=False).agg(count=('id','count'),\\\n",
    "                                                       CR=('checks','mean'),\\\n",
    "                                                       ARPU=('rev','mean'),\\\n",
    "                                                       ARPPU=('rev',lambda x: np.mean(pd.Series(x).loc[lambda x : x > 0])))"
   ]
  },
  {
   "cell_type": "code",
   "execution_count": 86,
   "metadata": {},
   "outputs": [],
   "source": [
    "data=make_df_and_metricks(df_groups,df_group_add,df_activ,df_checks)"
   ]
  },
  {
   "cell_type": "code",
   "execution_count": 87,
   "metadata": {},
   "outputs": [
    {
     "data": {
      "text/html": [
       "<div>\n",
       "<style scoped>\n",
       "    .dataframe tbody tr th:only-of-type {\n",
       "        vertical-align: middle;\n",
       "    }\n",
       "\n",
       "    .dataframe tbody tr th {\n",
       "        vertical-align: top;\n",
       "    }\n",
       "\n",
       "    .dataframe thead th {\n",
       "        text-align: right;\n",
       "    }\n",
       "</style>\n",
       "<table border=\"1\" class=\"dataframe\">\n",
       "  <thead>\n",
       "    <tr style=\"text-align: right;\">\n",
       "      <th></th>\n",
       "      <th>group</th>\n",
       "      <th>count</th>\n",
       "      <th>CR</th>\n",
       "      <th>ARPU</th>\n",
       "      <th>ARPPU</th>\n",
       "    </tr>\n",
       "  </thead>\n",
       "  <tbody>\n",
       "    <tr>\n",
       "      <th>0</th>\n",
       "      <td>A</td>\n",
       "      <td>1538</td>\n",
       "      <td>0.05</td>\n",
       "      <td>47.35</td>\n",
       "      <td>933.59</td>\n",
       "    </tr>\n",
       "    <tr>\n",
       "      <th>1</th>\n",
       "      <td>B</td>\n",
       "      <td>6803</td>\n",
       "      <td>0.05</td>\n",
       "      <td>58.06</td>\n",
       "      <td>1257.88</td>\n",
       "    </tr>\n",
       "  </tbody>\n",
       "</table>\n",
       "</div>"
      ],
      "text/plain": [
       "  group  count    CR   ARPU    ARPPU\n",
       "0     A   1538  0.05  47.35   933.59\n",
       "1     B   6803  0.05  58.06  1257.88"
      ]
     },
     "execution_count": 87,
     "metadata": {},
     "output_type": "execute_result"
    }
   ],
   "source": [
    "round(data,2)"
   ]
  },
  {
   "cell_type": "code",
   "execution_count": 88,
   "metadata": {},
   "outputs": [],
   "source": [
    "def visual(data_metricks):\n",
    "    \"\"\"Функция для визцализации метрик\"\"\"\n",
    "    fig, axs = plt.subplots(nrows= 1 , ncols= 3, figsize = (12, 3)) \n",
    "\n",
    "    axs[0].bar(data_metricks.group,data_metricks.ARPU, color=['green', 'red'], alpha=0.6)\n",
    "    axs[0].set_title('ARPU')\n",
    "\n",
    "    axs[1].bar(data_metricks.group, data_metricks.ARPPU, color=['green', 'red'], alpha=0.6)\n",
    "    axs[1].set_title('ARPPU')\n",
    "\n",
    "    axs[2].bar(data_metricks.group, data_metricks.CR, color=['green', 'red'], alpha=0.6)\n",
    "    axs[2].set_title('CR')\n",
    "\n",
    "    plt.show()"
   ]
  },
  {
   "cell_type": "code",
   "execution_count": 89,
   "metadata": {},
   "outputs": [
    {
     "data": {
      "image/png": "[encoded data removed]",
      "text/plain": [
       "<Figure size 864x216 with 3 Axes>"
      ]
     },
     "metadata": {},
     "output_type": "display_data"
    }
   ],
   "source": [
    "visual(data)"
   ]
  },
  {
   "cell_type": "code",
   "execution_count": null,
   "metadata": {},
   "outputs": [],
   "source": []
  }
 ],
 "metadata": {
  "kernelspec": {
   "display_name": "Python 3",
   "language": "python",
   "name": "python3"
  },
  "language_info": {
   "codemirror_mode": {
    "name": "ipython",
    "version": 3
   },
   "file_extension": ".py",
   "mimetype": "text/x-python",
   "name": "python",
   "nbconvert_exporter": "python",
   "pygments_lexer": "ipython3",
   "version": "3.7.3"
  }
 },
 "nbformat": 4,
 "nbformat_minor": 4
}
