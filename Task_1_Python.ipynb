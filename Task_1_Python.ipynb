{
 "cells": [
  {
   "cell_type": "code",
   "execution_count": 1,
   "metadata": {},
   "outputs": [],
   "source": [
    "#Подключаем все необходимые библиотеки\n",
    "import numpy as np\n",
    "import pandas as pd\n",
    "import matplotlib.pyplot as plt\n",
    "import seaborn as sns\n",
    "from scipy import stats\n",
    "from scipy.stats import norm\n",
    "from tqdm.auto import tqdm\n",
    "from scipy.stats import mannwhitneyu\n",
    "import My_own_def as md\n",
    "\n",
    "plt.style.use('ggplot')"
   ]
  },
  {
   "cell_type": "code",
   "execution_count": 2,
   "metadata": {},
   "outputs": [],
   "source": [
    "df_groups=pd.read_csv('/mnt/HC_Volume_18315164/home-jupyter/jupyter-o-litvintseva-28/Проект_2_groups.csv',sep=';')\n",
    "df_group_add=pd.read_csv('/mnt/HC_Volume_18315164/home-jupyter/jupyter-o-litvintseva-28/Проект_2_group_add.csv')\n",
    "df_activ=pd.read_csv('/mnt/HC_Volume_18315164/home-jupyter/jupyter-o-litvintseva-28/Проект_2_active_studs.csv')\n",
    "df_checks=pd.read_csv('/mnt/HC_Volume_18315164/home-jupyter/jupyter-o-litvintseva-28/Проект_2_checks.csv',sep=';')"
   ]
  },
  {
   "cell_type": "code",
   "execution_count": 3,
   "metadata": {},
   "outputs": [
    {
     "data": {
      "text/plain": [
       "\"df_groups=pd.read_csv('Проект_2_groups.csv',sep=';')\\ndf_group_add=pd.read_csv('Проект_2_group_add.csv')\\ndf_activ=pd.read_csv('Проект_2_active_studs.csv')\\ndf_checks=pd.read_csv('Проект_2_checks.csv',sep=';')\""
      ]
     },
     "execution_count": 3,
     "metadata": {},
     "output_type": "execute_result"
    }
   ],
   "source": [
    "'''df_groups=pd.read_csv('Проект_2_groups.csv',sep=';')\n",
    "df_group_add=pd.read_csv('Проект_2_group_add.csv')\n",
    "df_activ=pd.read_csv('Проект_2_active_studs.csv')\n",
    "df_checks=pd.read_csv('Проект_2_checks.csv',sep=';')'''\n",
    "#Загружаем все файлы"
   ]
  },
  {
   "cell_type": "code",
   "execution_count": 4,
   "metadata": {},
   "outputs": [],
   "source": [
    "#Сначало разберемся с тем, что от нас требутся и какие данные мы имеем\n",
    "#Первое действие, понять условие задания и разобраться, какие данные мы будем использовать\n",
    "#Для начало создадим функцию для анализа данных, или для понимания данных"
   ]
  },
  {
   "cell_type": "code",
   "execution_count": 5,
   "metadata": {},
   "outputs": [
    {
     "name": "stdout",
     "output_type": "stream",
     "text": [
      "\n",
      "Проверяем таблицу по столбцу id\n",
      "74484 Записей\n",
      "2 Столбцов/а\n",
      "Нету нуль значений\n",
      "Нету nan значений\n",
      "\n",
      "Проверяем таблицу по столбцу student_id\n",
      "8341 Записей\n",
      "1 Столбцов/а\n",
      "Нету нуль значений\n",
      "Нету nan значений\n",
      "\n",
      "Проверяем таблицу по столбцу student_id\n",
      "541 Записей\n",
      "2 Столбцов/а\n",
      "Нету нуль значений\n",
      "Нету nan значений\n"
     ]
    }
   ],
   "source": [
    "md.data_info(df_groups)\n",
    "md.data_info(df_activ)\n",
    "md.data_info(df_checks)"
   ]
  },
  {
   "cell_type": "markdown",
   "metadata": {},
   "source": [
    "В данных нету дубликатов по id студента/ записи не повтоятся, нигде нету нуль значений и пропущенных записей"
   ]
  },
  {
   "cell_type": "markdown",
   "metadata": {},
   "source": [
    "Метрики, которые мы проверяем\n",
    "1) CR (отношение числа купивших к числу активных)\n",
    "2) ARPU (средний доход на пользователя)\n",
    "3) ARPPU (средний доход на платящего пользователя/прибыльность проекта в расчете на одного пользователя)"
   ]
  },
  {
   "cell_type": "markdown",
   "metadata": {},
   "source": [
    "# Формируем данные для А/В теста"
   ]
  },
  {
   "cell_type": "code",
   "execution_count": 6,
   "metadata": {},
   "outputs": [
    {
     "data": {
      "text/plain": [
       "B    6793\n",
       "A    1535\n",
       "Name: grp, dtype: int64"
      ]
     },
     "execution_count": 6,
     "metadata": {},
     "output_type": "execute_result"
    }
   ],
   "source": [
    "# Отбираем только активных пользователей\n",
    "full_activ=df_groups.merge(df_activ,left_on='id',right_on='student_id',how='inner')\n",
    "full_activ.grp.value_counts()"
   ]
  },
  {
   "cell_type": "code",
   "execution_count": 7,
   "metadata": {},
   "outputs": [],
   "source": [
    "# 13 Пользователей не хватает, они были активны, но их нету в df_groups"
   ]
  },
  {
   "cell_type": "code",
   "execution_count": 8,
   "metadata": {},
   "outputs": [],
   "source": [
    "full_activ_rev=full_activ.merge(df_checks,left_on='id',right_on='student_id',how='left')\n",
    "# соединили таблицу checks, чтобы узнать на какую сумму закупились активные пользователи в день запуска новой механики"
   ]
  },
  {
   "cell_type": "code",
   "execution_count": 9,
   "metadata": {},
   "outputs": [],
   "source": [
    "#Видим, что есть nan значения, попробуем их заполнить нулями"
   ]
  },
  {
   "cell_type": "code",
   "execution_count": 10,
   "metadata": {},
   "outputs": [],
   "source": [
    "full_activ_rev['rev']=full_activ_rev['rev'].fillna (0)\n",
    "#Заполнили nan нулями"
   ]
  },
  {
   "cell_type": "markdown",
   "metadata": {},
   "source": [
    "# Тестируем нормальность "
   ]
  },
  {
   "cell_type": "code",
   "execution_count": 11,
   "metadata": {},
   "outputs": [
    {
     "name": "stdout",
     "output_type": "stream",
     "text": [
      "ShapiroResult(statistic=0.7353236079216003, pvalue=1.4986822893803264e-10)\n",
      "ShapiroResult(statistic=0.8551987409591675, pvalue=1.756778758085431e-16)\n"
     ]
    }
   ],
   "source": [
    "#через scipy\n",
    "import scipy.stats as ss\n",
    "\n",
    "df_A=full_activ_rev.query('grp==\"A\"')\n",
    "df_B=full_activ_rev.query('grp==\"B\"')\n",
    "\n",
    "print(ss.shapiro(df_A.query('rev>0').rev))\n",
    "print(ss.shapiro(df_B.query('rev>0').rev))"
   ]
  },
  {
   "cell_type": "code",
   "execution_count": 12,
   "metadata": {},
   "outputs": [],
   "source": [
    "# Из теста Шапиро-Уилко мы видим, что наши данные значино отличаются от нормального распределения (pvalue<0.05)"
   ]
  },
  {
   "cell_type": "code",
   "execution_count": 13,
   "metadata": {},
   "outputs": [
    {
     "name": "stdout",
     "output_type": "stream",
     "text": [
      "NormaltestResult(statistic=30.378419638487475, pvalue=2.5316868804220266e-07)\n",
      "NormaltestResult(statistic=7.022269699078301, pvalue=0.029863005181946005)\n"
     ]
    }
   ],
   "source": [
    "print(ss.normaltest(df_A.query('rev>0').rev))\n",
    "print(ss.normaltest(df_B.query('rev>0').rev))"
   ]
  },
  {
   "cell_type": "code",
   "execution_count": 14,
   "metadata": {},
   "outputs": [],
   "source": [
    "# Результат тот же самый"
   ]
  },
  {
   "cell_type": "markdown",
   "metadata": {},
   "source": [
    "# H0: ARPU,ARPPU у обеих выборок одинаковый (только активные)"
   ]
  },
  {
   "cell_type": "code",
   "execution_count": 15,
   "metadata": {},
   "outputs": [],
   "source": [
    "test=df_B.query('rev>0')['rev']\n",
    "control=df_A.query('rev>0')['rev']\n",
    "test_nul=df_B['rev']\n",
    "control_nul=df_A['rev']\n",
    "# A/B testing from Bootstrap"
   ]
  },
  {
   "cell_type": "code",
   "execution_count": 16,
   "metadata": {},
   "outputs": [
    {
     "data": {
      "application/vnd.jupyter.widget-view+json": {
       "model_id": "143a96a07a19488f80e58a12e2e5c874",
       "version_major": 2,
       "version_minor": 0
      },
      "text/plain": [
       "HBox(children=(FloatProgress(value=0.0, max=1000.0), HTML(value='')))"
      ]
     },
     "metadata": {},
     "output_type": "display_data"
    },
    {
     "name": "stdout",
     "output_type": "stream",
     "text": [
      "\n"
     ]
    },
    {
     "data": {
      "image/png": "[encoded data removed]",
      "text/plain": [
       "<Figure size 432x288 with 1 Axes>"
      ]
     },
     "metadata": {},
     "output_type": "display_data"
    }
   ],
   "source": [
    "boot_strap=md.get_bootstrap(control,test)"
   ]
  },
  {
   "cell_type": "code",
   "execution_count": 17,
   "metadata": {},
   "outputs": [
    {
     "name": "stdout",
     "output_type": "stream",
     "text": [
      "p_value = 0.0177\n"
     ]
    },
    {
     "data": {
      "text/html": [
       "<div>\n",
       "<style scoped>\n",
       "    .dataframe tbody tr th:only-of-type {\n",
       "        vertical-align: middle;\n",
       "    }\n",
       "\n",
       "    .dataframe tbody tr th {\n",
       "        vertical-align: top;\n",
       "    }\n",
       "\n",
       "    .dataframe thead th {\n",
       "        text-align: right;\n",
       "    }\n",
       "</style>\n",
       "<table border=\"1\" class=\"dataframe\">\n",
       "  <thead>\n",
       "    <tr style=\"text-align: right;\">\n",
       "      <th></th>\n",
       "      <th>0</th>\n",
       "    </tr>\n",
       "  </thead>\n",
       "  <tbody>\n",
       "    <tr>\n",
       "      <th>0.025</th>\n",
       "      <td>-565.66</td>\n",
       "    </tr>\n",
       "    <tr>\n",
       "      <th>0.975</th>\n",
       "      <td>-30.23</td>\n",
       "    </tr>\n",
       "  </tbody>\n",
       "</table>\n",
       "</div>"
      ],
      "text/plain": [
       "            0\n",
       "0.025 -565.66\n",
       "0.975  -30.23"
      ]
     },
     "execution_count": 17,
     "metadata": {},
     "output_type": "execute_result"
    }
   ],
   "source": [
    "print('p_value =',round(boot_strap['p_value'],4))\n",
    "round(boot_strap['quants'],2)"
   ]
  },
  {
   "cell_type": "markdown",
   "metadata": {},
   "source": [
    "Доверительный интервал не включает ноль, что позоволяет нам откланить нулевую гипотезу (выборки различаются). Это учитывая только пользователей с доходом. То есть ARPPU у активных пользоватлей различается"
   ]
  },
  {
   "cell_type": "code",
   "execution_count": 18,
   "metadata": {},
   "outputs": [
    {
     "data": {
      "application/vnd.jupyter.widget-view+json": {
       "model_id": "7d44fd718af14637a8f7128517475d49",
       "version_major": 2,
       "version_minor": 0
      },
      "text/plain": [
       "HBox(children=(FloatProgress(value=0.0, max=1000.0), HTML(value='')))"
      ]
     },
     "metadata": {},
     "output_type": "display_data"
    },
    {
     "name": "stdout",
     "output_type": "stream",
     "text": [
      "\n"
     ]
    },
    {
     "data": {
      "image/png": "[encoded data removed]",
      "text/plain": [
       "<Figure size 432x288 with 1 Axes>"
      ]
     },
     "metadata": {},
     "output_type": "display_data"
    }
   ],
   "source": [
    "boot_strap=md.get_bootstrap(control_nul,test_nul)"
   ]
  },
  {
   "cell_type": "code",
   "execution_count": 19,
   "metadata": {},
   "outputs": [
    {
     "name": "stdout",
     "output_type": "stream",
     "text": [
      "p_value = 0.3372\n"
     ]
    },
    {
     "data": {
      "text/html": [
       "<div>\n",
       "<style scoped>\n",
       "    .dataframe tbody tr th:only-of-type {\n",
       "        vertical-align: middle;\n",
       "    }\n",
       "\n",
       "    .dataframe tbody tr th {\n",
       "        vertical-align: top;\n",
       "    }\n",
       "\n",
       "    .dataframe thead th {\n",
       "        text-align: right;\n",
       "    }\n",
       "</style>\n",
       "<table border=\"1\" class=\"dataframe\">\n",
       "  <thead>\n",
       "    <tr style=\"text-align: right;\">\n",
       "      <th></th>\n",
       "      <th>0</th>\n",
       "    </tr>\n",
       "  </thead>\n",
       "  <tbody>\n",
       "    <tr>\n",
       "      <th>0.025</th>\n",
       "      <td>-30.55</td>\n",
       "    </tr>\n",
       "    <tr>\n",
       "      <th>0.975</th>\n",
       "      <td>11.66</td>\n",
       "    </tr>\n",
       "  </tbody>\n",
       "</table>\n",
       "</div>"
      ],
      "text/plain": [
       "           0\n",
       "0.025 -30.55\n",
       "0.975  11.66"
      ]
     },
     "execution_count": 19,
     "metadata": {},
     "output_type": "execute_result"
    }
   ],
   "source": [
    "print('p_value =',round(boot_strap['p_value'],4))\n",
    "round(boot_strap['quants'],2)"
   ]
  },
  {
   "cell_type": "markdown",
   "metadata": {},
   "source": [
    "HO не отклоняется для ARPU, то есть ARPU не различается"
   ]
  },
  {
   "cell_type": "markdown",
   "metadata": {},
   "source": [
    "Если только ARPPU различается, выясним в какой группе он больше"
   ]
  },
  {
   "cell_type": "markdown",
   "metadata": {},
   "source": [
    "# Дисперсионный анализ"
   ]
  },
  {
   "cell_type": "markdown",
   "metadata": {},
   "source": [
    "Цель: Выяснить зависимость статуса \"активный\" от суммы дохода в разных группах."
   ]
  },
  {
   "cell_type": "code",
   "execution_count": 20,
   "metadata": {},
   "outputs": [],
   "source": [
    "# Для этого анализа дисперсии выборок должны быть примерно равны"
   ]
  },
  {
   "cell_type": "code",
   "execution_count": 21,
   "metadata": {},
   "outputs": [
    {
     "data": {
      "text/plain": [
       "LeveneResult(statistic=3.0558643506726035, pvalue=0.08123509393501775)"
      ]
     },
     "execution_count": 21,
     "metadata": {},
     "output_type": "execute_result"
    }
   ],
   "source": [
    "group1=df_A.query('rev>0').rev\n",
    "group2=df_B.query('rev>0').rev\n",
    "ss.levene(group1,group2,center='median')"
   ]
  },
  {
   "cell_type": "code",
   "execution_count": 22,
   "metadata": {},
   "outputs": [
    {
     "data": {
      "text/plain": [
       "LeveneResult(statistic=0.3534952458056402, pvalue=0.5524868375224445)"
      ]
     },
     "execution_count": 22,
     "metadata": {},
     "output_type": "execute_result"
    }
   ],
   "source": [
    "ss.levene(group1,group2,center='mean')"
   ]
  },
  {
   "cell_type": "markdown",
   "metadata": {},
   "source": [
    "В обоих методах p-значение составляет больше 0,05. Это означает, что в обоих случаях мы не смогли бы опровергнуть нулевую гипотезу. Это означает, что у нас нет достаточных доказательств того, что различия в доходе между двумя механиками значительно различаются."
   ]
  },
  {
   "cell_type": "code",
   "execution_count": 23,
   "metadata": {},
   "outputs": [],
   "source": [
    "#Другими словами, группы имеют равные дисперсии"
   ]
  },
  {
   "cell_type": "code",
   "execution_count": 24,
   "metadata": {},
   "outputs": [],
   "source": [
    "all_dfd=df_groups.merge(df_activ,left_on='id',right_on='student_id',how='left')\n",
    "data=all_dfd.merge(df_checks,left_on='id',right_on='student_id',how='left')\n",
    "data.columns = ['id', 'group', 'activ', 'checks','rev']\n",
    "data[['activ', 'checks','rev']] = data[['activ', 'checks','rev']]. fillna (0)"
   ]
  },
  {
   "cell_type": "code",
   "execution_count": 25,
   "metadata": {},
   "outputs": [
    {
     "data": {
      "text/html": [
       "<div>\n",
       "<style scoped>\n",
       "    .dataframe tbody tr th:only-of-type {\n",
       "        vertical-align: middle;\n",
       "    }\n",
       "\n",
       "    .dataframe tbody tr th {\n",
       "        vertical-align: top;\n",
       "    }\n",
       "\n",
       "    .dataframe thead th {\n",
       "        text-align: right;\n",
       "    }\n",
       "</style>\n",
       "<table border=\"1\" class=\"dataframe\">\n",
       "  <thead>\n",
       "    <tr style=\"text-align: right;\">\n",
       "      <th></th>\n",
       "      <th>id</th>\n",
       "      <th>group</th>\n",
       "      <th>activ</th>\n",
       "      <th>checks</th>\n",
       "      <th>rev</th>\n",
       "    </tr>\n",
       "  </thead>\n",
       "  <tbody>\n",
       "    <tr>\n",
       "      <th>0</th>\n",
       "      <td>1489</td>\n",
       "      <td>B</td>\n",
       "      <td>0.0</td>\n",
       "      <td>0.0</td>\n",
       "      <td>0.0</td>\n",
       "    </tr>\n",
       "    <tr>\n",
       "      <th>1</th>\n",
       "      <td>1627</td>\n",
       "      <td>A</td>\n",
       "      <td>1627.0</td>\n",
       "      <td>1627.0</td>\n",
       "      <td>990.0</td>\n",
       "    </tr>\n",
       "    <tr>\n",
       "      <th>2</th>\n",
       "      <td>1768</td>\n",
       "      <td>B</td>\n",
       "      <td>0.0</td>\n",
       "      <td>0.0</td>\n",
       "      <td>0.0</td>\n",
       "    </tr>\n",
       "    <tr>\n",
       "      <th>3</th>\n",
       "      <td>1783</td>\n",
       "      <td>B</td>\n",
       "      <td>0.0</td>\n",
       "      <td>0.0</td>\n",
       "      <td>0.0</td>\n",
       "    </tr>\n",
       "    <tr>\n",
       "      <th>4</th>\n",
       "      <td>1794</td>\n",
       "      <td>A</td>\n",
       "      <td>0.0</td>\n",
       "      <td>0.0</td>\n",
       "      <td>0.0</td>\n",
       "    </tr>\n",
       "    <tr>\n",
       "      <th>...</th>\n",
       "      <td>...</td>\n",
       "      <td>...</td>\n",
       "      <td>...</td>\n",
       "      <td>...</td>\n",
       "      <td>...</td>\n",
       "    </tr>\n",
       "    <tr>\n",
       "      <th>74479</th>\n",
       "      <td>5692459</td>\n",
       "      <td>B</td>\n",
       "      <td>0.0</td>\n",
       "      <td>0.0</td>\n",
       "      <td>0.0</td>\n",
       "    </tr>\n",
       "    <tr>\n",
       "      <th>74480</th>\n",
       "      <td>5692572</td>\n",
       "      <td>B</td>\n",
       "      <td>0.0</td>\n",
       "      <td>0.0</td>\n",
       "      <td>0.0</td>\n",
       "    </tr>\n",
       "    <tr>\n",
       "      <th>74481</th>\n",
       "      <td>5692865</td>\n",
       "      <td>B</td>\n",
       "      <td>0.0</td>\n",
       "      <td>0.0</td>\n",
       "      <td>0.0</td>\n",
       "    </tr>\n",
       "    <tr>\n",
       "      <th>74482</th>\n",
       "      <td>5693667</td>\n",
       "      <td>B</td>\n",
       "      <td>0.0</td>\n",
       "      <td>0.0</td>\n",
       "      <td>0.0</td>\n",
       "    </tr>\n",
       "    <tr>\n",
       "      <th>74483</th>\n",
       "      <td>5694419</td>\n",
       "      <td>B</td>\n",
       "      <td>0.0</td>\n",
       "      <td>0.0</td>\n",
       "      <td>0.0</td>\n",
       "    </tr>\n",
       "  </tbody>\n",
       "</table>\n",
       "<p>74484 rows × 5 columns</p>\n",
       "</div>"
      ],
      "text/plain": [
       "            id group   activ  checks    rev\n",
       "0         1489     B     0.0     0.0    0.0\n",
       "1         1627     A  1627.0  1627.0  990.0\n",
       "2         1768     B     0.0     0.0    0.0\n",
       "3         1783     B     0.0     0.0    0.0\n",
       "4         1794     A     0.0     0.0    0.0\n",
       "...        ...   ...     ...     ...    ...\n",
       "74479  5692459     B     0.0     0.0    0.0\n",
       "74480  5692572     B     0.0     0.0    0.0\n",
       "74481  5692865     B     0.0     0.0    0.0\n",
       "74482  5693667     B     0.0     0.0    0.0\n",
       "74483  5694419     B     0.0     0.0    0.0\n",
       "\n",
       "[74484 rows x 5 columns]"
      ]
     },
     "execution_count": 25,
     "metadata": {},
     "output_type": "execute_result"
    }
   ],
   "source": [
    "data"
   ]
  },
  {
   "cell_type": "code",
   "execution_count": 26,
   "metadata": {},
   "outputs": [],
   "source": [
    "data['activ']=pd.Series(map(lambda x: 'on' if x>0 else 'off',  data['activ']))\n",
    "data['checks']=pd.Series(map(lambda x: 1 if x>0 else 0,  data['checks']))"
   ]
  },
  {
   "cell_type": "code",
   "execution_count": 27,
   "metadata": {},
   "outputs": [
    {
     "data": {
      "text/html": [
       "<div>\n",
       "<style scoped>\n",
       "    .dataframe tbody tr th:only-of-type {\n",
       "        vertical-align: middle;\n",
       "    }\n",
       "\n",
       "    .dataframe tbody tr th {\n",
       "        vertical-align: top;\n",
       "    }\n",
       "\n",
       "    .dataframe thead th {\n",
       "        text-align: right;\n",
       "    }\n",
       "</style>\n",
       "<table border=\"1\" class=\"dataframe\">\n",
       "  <thead>\n",
       "    <tr style=\"text-align: right;\">\n",
       "      <th></th>\n",
       "      <th>id</th>\n",
       "      <th>group</th>\n",
       "      <th>activ</th>\n",
       "      <th>checks</th>\n",
       "      <th>rev</th>\n",
       "    </tr>\n",
       "  </thead>\n",
       "  <tbody>\n",
       "    <tr>\n",
       "      <th>0</th>\n",
       "      <td>1489</td>\n",
       "      <td>B</td>\n",
       "      <td>off</td>\n",
       "      <td>0</td>\n",
       "      <td>0.0</td>\n",
       "    </tr>\n",
       "    <tr>\n",
       "      <th>1</th>\n",
       "      <td>1627</td>\n",
       "      <td>A</td>\n",
       "      <td>on</td>\n",
       "      <td>1</td>\n",
       "      <td>990.0</td>\n",
       "    </tr>\n",
       "    <tr>\n",
       "      <th>2</th>\n",
       "      <td>1768</td>\n",
       "      <td>B</td>\n",
       "      <td>off</td>\n",
       "      <td>0</td>\n",
       "      <td>0.0</td>\n",
       "    </tr>\n",
       "    <tr>\n",
       "      <th>3</th>\n",
       "      <td>1783</td>\n",
       "      <td>B</td>\n",
       "      <td>off</td>\n",
       "      <td>0</td>\n",
       "      <td>0.0</td>\n",
       "    </tr>\n",
       "    <tr>\n",
       "      <th>4</th>\n",
       "      <td>1794</td>\n",
       "      <td>A</td>\n",
       "      <td>off</td>\n",
       "      <td>0</td>\n",
       "      <td>0.0</td>\n",
       "    </tr>\n",
       "  </tbody>\n",
       "</table>\n",
       "</div>"
      ],
      "text/plain": [
       "     id group activ  checks    rev\n",
       "0  1489     B   off       0    0.0\n",
       "1  1627     A    on       1  990.0\n",
       "2  1768     B   off       0    0.0\n",
       "3  1783     B   off       0    0.0\n",
       "4  1794     A   off       0    0.0"
      ]
     },
     "execution_count": 27,
     "metadata": {},
     "output_type": "execute_result"
    }
   ],
   "source": [
    "data=data.loc[:,['id','group','activ','checks','rev']]\n",
    "data.head()"
   ]
  },
  {
   "cell_type": "code",
   "execution_count": 28,
   "metadata": {},
   "outputs": [],
   "source": [
    "from statsmodels.formula.api import ols\n",
    "from statsmodels.stats.anova import anova_lm\n",
    "\n",
    "formula = 'rev ~ group + activ'\n",
    "model = ols(formula, data.query('rev>0')).fit()\n",
    "aov_table = anova_lm(model, typ=2)"
   ]
  },
  {
   "cell_type": "code",
   "execution_count": 29,
   "metadata": {},
   "outputs": [
    {
     "data": {
      "text/html": [
       "<div>\n",
       "<style scoped>\n",
       "    .dataframe tbody tr th:only-of-type {\n",
       "        vertical-align: middle;\n",
       "    }\n",
       "\n",
       "    .dataframe tbody tr th {\n",
       "        vertical-align: top;\n",
       "    }\n",
       "\n",
       "    .dataframe thead th {\n",
       "        text-align: right;\n",
       "    }\n",
       "</style>\n",
       "<table border=\"1\" class=\"dataframe\">\n",
       "  <thead>\n",
       "    <tr style=\"text-align: right;\">\n",
       "      <th></th>\n",
       "      <th>sum_sq</th>\n",
       "      <th>df</th>\n",
       "      <th>F</th>\n",
       "      <th>PR(&gt;F)</th>\n",
       "    </tr>\n",
       "  </thead>\n",
       "  <tbody>\n",
       "    <tr>\n",
       "      <th>group</th>\n",
       "      <td>5.329962e+06</td>\n",
       "      <td>1.0</td>\n",
       "      <td>10.117343</td>\n",
       "      <td>1.553630e-03</td>\n",
       "    </tr>\n",
       "    <tr>\n",
       "      <th>activ</th>\n",
       "      <td>2.532333e+07</td>\n",
       "      <td>1.0</td>\n",
       "      <td>48.068781</td>\n",
       "      <td>1.185443e-11</td>\n",
       "    </tr>\n",
       "    <tr>\n",
       "      <th>Residual</th>\n",
       "      <td>2.828993e+08</td>\n",
       "      <td>537.0</td>\n",
       "      <td>NaN</td>\n",
       "      <td>NaN</td>\n",
       "    </tr>\n",
       "  </tbody>\n",
       "</table>\n",
       "</div>"
      ],
      "text/plain": [
       "                sum_sq     df          F        PR(>F)\n",
       "group     5.329962e+06    1.0  10.117343  1.553630e-03\n",
       "activ     2.532333e+07    1.0  48.068781  1.185443e-11\n",
       "Residual  2.828993e+08  537.0        NaN           NaN"
      ]
     },
     "execution_count": 29,
     "metadata": {},
     "output_type": "execute_result"
    }
   ],
   "source": [
    "aov_table"
   ]
  },
  {
   "cell_type": "code",
   "execution_count": 30,
   "metadata": {},
   "outputs": [
    {
     "data": {
      "text/plain": [
       "<matplotlib.axes._subplots.AxesSubplot at 0x7f7090a58d68>"
      ]
     },
     "execution_count": 30,
     "metadata": {},
     "output_type": "execute_result"
    },
    {
     "data": {
      "image/png": "[encoded data removed]",
      "text/plain": [
       "<Figure size 432x288 with 1 Axes>"
      ]
     },
     "metadata": {},
     "output_type": "display_data"
    }
   ],
   "source": [
    "sns.pointplot(x=\"group\",y=\"rev\",data=data.query('rev>0'))"
   ]
  },
  {
   "cell_type": "code",
   "execution_count": 31,
   "metadata": {},
   "outputs": [
    {
     "data": {
      "text/plain": [
       "<matplotlib.axes._subplots.AxesSubplot at 0x7f708975d320>"
      ]
     },
     "execution_count": 31,
     "metadata": {},
     "output_type": "execute_result"
    },
    {
     "data": {
      "image/png": "[encoded data removed]",
      "text/plain": [
       "<Figure size 432x288 with 1 Axes>"
      ]
     },
     "metadata": {},
     "output_type": "display_data"
    }
   ],
   "source": [
    "sns.pointplot(x=\"activ\",y=\"rev\",data=data.query('rev>0'))"
   ]
  },
  {
   "cell_type": "code",
   "execution_count": 32,
   "metadata": {},
   "outputs": [
    {
     "data": {
      "text/html": [
       "<div>\n",
       "<style scoped>\n",
       "    .dataframe tbody tr th:only-of-type {\n",
       "        vertical-align: middle;\n",
       "    }\n",
       "\n",
       "    .dataframe tbody tr th {\n",
       "        vertical-align: top;\n",
       "    }\n",
       "\n",
       "    .dataframe thead th {\n",
       "        text-align: right;\n",
       "    }\n",
       "</style>\n",
       "<table border=\"1\" class=\"dataframe\">\n",
       "  <thead>\n",
       "    <tr style=\"text-align: right;\">\n",
       "      <th></th>\n",
       "      <th>df</th>\n",
       "      <th>sum_sq</th>\n",
       "      <th>mean_sq</th>\n",
       "      <th>F</th>\n",
       "      <th>PR(&gt;F)</th>\n",
       "    </tr>\n",
       "  </thead>\n",
       "  <tbody>\n",
       "    <tr>\n",
       "      <th>group</th>\n",
       "      <td>1.0</td>\n",
       "      <td>5.204301e+06</td>\n",
       "      <td>5.204301e+06</td>\n",
       "      <td>9.903194</td>\n",
       "      <td>1.741627e-03</td>\n",
       "    </tr>\n",
       "    <tr>\n",
       "      <th>activ</th>\n",
       "      <td>1.0</td>\n",
       "      <td>2.532333e+07</td>\n",
       "      <td>2.532333e+07</td>\n",
       "      <td>48.187416</td>\n",
       "      <td>1.123521e-11</td>\n",
       "    </tr>\n",
       "    <tr>\n",
       "      <th>group:activ</th>\n",
       "      <td>1.0</td>\n",
       "      <td>1.222004e+06</td>\n",
       "      <td>1.222004e+06</td>\n",
       "      <td>2.325334</td>\n",
       "      <td>1.278727e-01</td>\n",
       "    </tr>\n",
       "    <tr>\n",
       "      <th>Residual</th>\n",
       "      <td>536.0</td>\n",
       "      <td>2.816773e+08</td>\n",
       "      <td>5.255174e+05</td>\n",
       "      <td>NaN</td>\n",
       "      <td>NaN</td>\n",
       "    </tr>\n",
       "  </tbody>\n",
       "</table>\n",
       "</div>"
      ],
      "text/plain": [
       "                df        sum_sq       mean_sq          F        PR(>F)\n",
       "group          1.0  5.204301e+06  5.204301e+06   9.903194  1.741627e-03\n",
       "activ          1.0  2.532333e+07  2.532333e+07  48.187416  1.123521e-11\n",
       "group:activ    1.0  1.222004e+06  1.222004e+06   2.325334  1.278727e-01\n",
       "Residual     536.0  2.816773e+08  5.255174e+05        NaN           NaN"
      ]
     },
     "execution_count": 32,
     "metadata": {},
     "output_type": "execute_result"
    }
   ],
   "source": [
    "model_interect = ols(\"rev ~ group + activ + group:activ\", data.query('rev>0')).fit()\n",
    "anova_lm(model_interect)"
   ]
  },
  {
   "cell_type": "code",
   "execution_count": 33,
   "metadata": {},
   "outputs": [
    {
     "data": {
      "text/plain": [
       "<matplotlib.axes._subplots.AxesSubplot at 0x7f70896cf4e0>"
      ]
     },
     "execution_count": 33,
     "metadata": {},
     "output_type": "execute_result"
    },
    {
     "data": {
      "image/png": "[encoded data removed]",
      "text/plain": [
       "<Figure size 432x288 with 1 Axes>"
      ]
     },
     "metadata": {},
     "output_type": "display_data"
    }
   ],
   "source": [
    "sns.pointplot(x=\"group\",y=\"rev\",hue=\"activ\",data=data.query('rev>0'))"
   ]
  },
  {
   "cell_type": "markdown",
   "metadata": {},
   "source": [
    "#Значимы эффекты от групп и взаимодействия этих групп\n",
    "#Больший эффект нам дает статус активности пользователя\n",
    "#Из графика можно заметить, что доход намного больше от активных пользователей из группы В, а у не активных пользователей в обеих группах почти одинаковый.\n",
    "#Можно отметить больший доход от активных пользователей группы В, чем от группы А"
   ]
  },
  {
   "cell_type": "markdown",
   "metadata": {},
   "source": [
    "Сделаем проверку на разброс данных"
   ]
  },
  {
   "cell_type": "code",
   "execution_count": 34,
   "metadata": {},
   "outputs": [
    {
     "data": {
      "text/plain": [
       "0.0       1457\n",
       "290.0       25\n",
       "580.0        6\n",
       "199.0        5\n",
       "990.0        5\n",
       "590.0        5\n",
       "690.0        4\n",
       "3660.0       3\n",
       "840.0        3\n",
       "1530.0       3\n",
       "2910.0       2\n",
       "1140.0       2\n",
       "1160.0       2\n",
       "489.0        2\n",
       "2820.0       2\n",
       "2890.0       1\n",
       "2220.0       1\n",
       "1039.0       1\n",
       "1980.0       1\n",
       "870.0        1\n",
       "2900.0       1\n",
       "1180.0       1\n",
       "398.0        1\n",
       "1830.0       1\n",
       "Name: rev, dtype: int64"
      ]
     },
     "execution_count": 34,
     "metadata": {},
     "output_type": "execute_result"
    }
   ],
   "source": [
    "df_A['rev'].value_counts()"
   ]
  },
  {
   "cell_type": "code",
   "execution_count": 35,
   "metadata": {},
   "outputs": [
    {
     "data": {
      "text/plain": [
       "0.0000       6480\n",
       "1900.0000      92\n",
       "290.0000       45\n",
       "1900.0001      35\n",
       "199.0000       27\n",
       "840.0000       21\n",
       "990.0000       17\n",
       "690.0000       13\n",
       "1140.0000       9\n",
       "398.0000        6\n",
       "590.0000        6\n",
       "1530.0000       5\n",
       "580.0000        5\n",
       "870.0000        5\n",
       "2890.0000       3\n",
       "2099.0000       3\n",
       "2910.0000       2\n",
       "1980.0000       2\n",
       "3660.0000       2\n",
       "4650.0000       1\n",
       "2220.0000       1\n",
       "1729.0000       1\n",
       "3040.0000       1\n",
       "3260.0000       1\n",
       "1050.0000       1\n",
       "1968.0000       1\n",
       "1160.0000       1\n",
       "796.0000        1\n",
       "2190.0000       1\n",
       "1388.0000       1\n",
       "880.0000        1\n",
       "597.0000        1\n",
       "1339.0000       1\n",
       "489.0000        1\n",
       "Name: rev, dtype: int64"
      ]
     },
     "execution_count": 35,
     "metadata": {},
     "output_type": "execute_result"
    }
   ],
   "source": [
    "df_B['rev'].value_counts()"
   ]
  },
  {
   "cell_type": "markdown",
   "metadata": {},
   "source": [
    "В группе В есть 92 чека на сумму 1900 и 35 на 1900.0001. Эта сумма есть только в группе В. Можно утверждать, что с новой механикой оплаты пользователи могут совершить покупку на сумму 1900, но почему так мы не знаем (не хватает информации о данных)."
   ]
  },
  {
   "cell_type": "markdown",
   "metadata": {},
   "source": [
    "# H0: CR не различается (отношение числа купивших к числу активных)"
   ]
  },
  {
   "cell_type": "code",
   "execution_count": 36,
   "metadata": {},
   "outputs": [
    {
     "data": {
      "text/html": [
       "<div>\n",
       "<style scoped>\n",
       "    .dataframe tbody tr th:only-of-type {\n",
       "        vertical-align: middle;\n",
       "    }\n",
       "\n",
       "    .dataframe tbody tr th {\n",
       "        vertical-align: top;\n",
       "    }\n",
       "\n",
       "    .dataframe thead th {\n",
       "        text-align: right;\n",
       "    }\n",
       "</style>\n",
       "<table border=\"1\" class=\"dataframe\">\n",
       "  <thead>\n",
       "    <tr style=\"text-align: right;\">\n",
       "      <th></th>\n",
       "      <th>id</th>\n",
       "      <th>group</th>\n",
       "      <th>activ</th>\n",
       "      <th>checks</th>\n",
       "      <th>rev</th>\n",
       "    </tr>\n",
       "  </thead>\n",
       "  <tbody>\n",
       "    <tr>\n",
       "      <th>0</th>\n",
       "      <td>1489</td>\n",
       "      <td>B</td>\n",
       "      <td>off</td>\n",
       "      <td>0</td>\n",
       "      <td>0.0</td>\n",
       "    </tr>\n",
       "    <tr>\n",
       "      <th>1</th>\n",
       "      <td>1627</td>\n",
       "      <td>A</td>\n",
       "      <td>on</td>\n",
       "      <td>1</td>\n",
       "      <td>990.0</td>\n",
       "    </tr>\n",
       "    <tr>\n",
       "      <th>2</th>\n",
       "      <td>1768</td>\n",
       "      <td>B</td>\n",
       "      <td>off</td>\n",
       "      <td>0</td>\n",
       "      <td>0.0</td>\n",
       "    </tr>\n",
       "    <tr>\n",
       "      <th>3</th>\n",
       "      <td>1783</td>\n",
       "      <td>B</td>\n",
       "      <td>off</td>\n",
       "      <td>0</td>\n",
       "      <td>0.0</td>\n",
       "    </tr>\n",
       "    <tr>\n",
       "      <th>4</th>\n",
       "      <td>1794</td>\n",
       "      <td>A</td>\n",
       "      <td>off</td>\n",
       "      <td>0</td>\n",
       "      <td>0.0</td>\n",
       "    </tr>\n",
       "  </tbody>\n",
       "</table>\n",
       "</div>"
      ],
      "text/plain": [
       "     id group activ  checks    rev\n",
       "0  1489     B   off       0    0.0\n",
       "1  1627     A    on       1  990.0\n",
       "2  1768     B   off       0    0.0\n",
       "3  1783     B   off       0    0.0\n",
       "4  1794     A   off       0    0.0"
      ]
     },
     "execution_count": 36,
     "metadata": {},
     "output_type": "execute_result"
    }
   ],
   "source": [
    "data.head()"
   ]
  },
  {
   "cell_type": "code",
   "execution_count": 37,
   "metadata": {},
   "outputs": [
    {
     "data": {
      "text/html": [
       "<div>\n",
       "<style scoped>\n",
       "    .dataframe tbody tr th:only-of-type {\n",
       "        vertical-align: middle;\n",
       "    }\n",
       "\n",
       "    .dataframe tbody tr th {\n",
       "        vertical-align: top;\n",
       "    }\n",
       "\n",
       "    .dataframe thead th {\n",
       "        text-align: right;\n",
       "    }\n",
       "</style>\n",
       "<table border=\"1\" class=\"dataframe\">\n",
       "  <thead>\n",
       "    <tr style=\"text-align: right;\">\n",
       "      <th></th>\n",
       "      <th>CR</th>\n",
       "    </tr>\n",
       "    <tr>\n",
       "      <th>group</th>\n",
       "      <th></th>\n",
       "    </tr>\n",
       "  </thead>\n",
       "  <tbody>\n",
       "    <tr>\n",
       "      <th>A</th>\n",
       "      <td>0.050814</td>\n",
       "    </tr>\n",
       "    <tr>\n",
       "      <th>B</th>\n",
       "      <td>0.046077</td>\n",
       "    </tr>\n",
       "  </tbody>\n",
       "</table>\n",
       "</div>"
      ],
      "text/plain": [
       "             CR\n",
       "group          \n",
       "A      0.050814\n",
       "B      0.046077"
      ]
     },
     "execution_count": 37,
     "metadata": {},
     "output_type": "execute_result"
    }
   ],
   "source": [
    "data.query('activ==\"on\"').groupby('group').agg(CR=('checks','mean'))"
   ]
  },
  {
   "cell_type": "markdown",
   "metadata": {},
   "source": [
    "CR у группы А больше чем у группы В, то есть конферсия уменьшилась"
   ]
  },
  {
   "cell_type": "markdown",
   "metadata": {},
   "source": [
    "Сделам проверку статистической значимости уменьшения CR. И для проверки используем ХИ - квадрат."
   ]
  },
  {
   "cell_type": "markdown",
   "metadata": {},
   "source": [
    "# Н0: Различие статистически не значимо."
   ]
  },
  {
   "cell_type": "markdown",
   "metadata": {},
   "source": [
    "a=0.05"
   ]
  },
  {
   "cell_type": "code",
   "execution_count": 38,
   "metadata": {},
   "outputs": [],
   "source": [
    "t1=data.query('activ == \"on\" and rev>0').groupby('group').count()[[\"id\"]]\n",
    "t2=data.query('activ == \"on\" and rev==0').groupby('group').count()[[\"id\"]]"
   ]
  },
  {
   "cell_type": "code",
   "execution_count": 39,
   "metadata": {},
   "outputs": [],
   "source": [
    "table=pd.concat([t1,t2],axis=1)"
   ]
  },
  {
   "cell_type": "code",
   "execution_count": 40,
   "metadata": {},
   "outputs": [
    {
     "data": {
      "text/html": [
       "<div>\n",
       "<style scoped>\n",
       "    .dataframe tbody tr th:only-of-type {\n",
       "        vertical-align: middle;\n",
       "    }\n",
       "\n",
       "    .dataframe tbody tr th {\n",
       "        vertical-align: top;\n",
       "    }\n",
       "\n",
       "    .dataframe thead th {\n",
       "        text-align: right;\n",
       "    }\n",
       "</style>\n",
       "<table border=\"1\" class=\"dataframe\">\n",
       "  <thead>\n",
       "    <tr style=\"text-align: right;\">\n",
       "      <th></th>\n",
       "      <th>id</th>\n",
       "      <th>id</th>\n",
       "    </tr>\n",
       "    <tr>\n",
       "      <th>group</th>\n",
       "      <th></th>\n",
       "      <th></th>\n",
       "    </tr>\n",
       "  </thead>\n",
       "  <tbody>\n",
       "    <tr>\n",
       "      <th>A</th>\n",
       "      <td>78</td>\n",
       "      <td>1457</td>\n",
       "    </tr>\n",
       "    <tr>\n",
       "      <th>B</th>\n",
       "      <td>313</td>\n",
       "      <td>6480</td>\n",
       "    </tr>\n",
       "  </tbody>\n",
       "</table>\n",
       "</div>"
      ],
      "text/plain": [
       "        id    id\n",
       "group           \n",
       "A       78  1457\n",
       "B      313  6480"
      ]
     },
     "execution_count": 40,
     "metadata": {},
     "output_type": "execute_result"
    }
   ],
   "source": [
    "table"
   ]
  },
  {
   "cell_type": "code",
   "execution_count": 41,
   "metadata": {},
   "outputs": [
    {
     "name": "stdout",
     "output_type": "stream",
     "text": [
      "0.46803677583199144\n"
     ]
    }
   ],
   "source": [
    "from scipy.stats import chi2_contingency\n",
    "chi2, p, dof, ex = chi2_contingency(table)\n",
    "print(p)"
   ]
  },
  {
   "cell_type": "markdown",
   "metadata": {},
   "source": [
    "p-value<0.05 Подтверждается Н0, различие статичтически незначимо."
   ]
  },
  {
   "cell_type": "markdown",
   "metadata": {},
   "source": [
    "# Вывод"
   ]
  },
  {
   "cell_type": "markdown",
   "metadata": {},
   "source": [
    "После проведения эксперимента мы пришли к выводу, что:"
   ]
  },
  {
   "cell_type": "markdown",
   "metadata": {},
   "source": [
    "- Средний доход на активного и платящего пользователя увеличился у группы В (полагаем за счет чеков на сумму 1900 )"
   ]
  },
  {
   "cell_type": "markdown",
   "metadata": {},
   "source": [
    "- А конверсия не изменилась"
   ]
  },
  {
   "cell_type": "markdown",
   "metadata": {},
   "source": [
    "Главный вопрос - стоит ли запускать новую механику."
   ]
  },
  {
   "cell_type": "markdown",
   "metadata": {},
   "source": [
    "Так как конверсия зависит от новой механики оплаты, то делаем вывод. что не стоит."
   ]
  }
 ],
 "metadata": {
  "kernelspec": {
   "display_name": "Python 3",
   "language": "python",
   "name": "python3"
  },
  "language_info": {
   "codemirror_mode": {
    "name": "ipython",
    "version": 3
   },
   "file_extension": ".py",
   "mimetype": "text/x-python",
   "name": "python",
   "nbconvert_exporter": "python",
   "pygments_lexer": "ipython3",
   "version": "3.7.3"
  }
 },
 "nbformat": 4,
 "nbformat_minor": 4
}
